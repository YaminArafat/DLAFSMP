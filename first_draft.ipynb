{
  "nbformat": 4,
  "nbformat_minor": 0,
  "metadata": {
    "colab": {
      "name": "first_draft.ipynb",
      "provenance": [],
      "authorship_tag": "ABX9TyOWP8Z8IKFmVWJ3I+JA1NVP",
      "include_colab_link": true
    },
    "kernelspec": {
      "name": "python3",
      "display_name": "Python 3"
    }
  },
  "cells": [
    {
      "cell_type": "markdown",
      "metadata": {
        "id": "view-in-github",
        "colab_type": "text"
      },
      "source": [
        "<a href=\"https://colab.research.google.com/github/YaminArafat/DLAFSMP/blob/master/first_draft.ipynb\" target=\"_parent\"><img src=\"https://colab.research.google.com/assets/colab-badge.svg\" alt=\"Open In Colab\"/></a>"
      ]
    },
    {
      "cell_type": "code",
      "metadata": {
        "id": "g3TaERsHggYw"
      },
      "source": [
        "import nltk\n",
        "import re\n",
        "import string\n",
        "import pandas as pd\n",
        "import numpy as np\n",
        "from nltk.stem.porter import PorterStemmer\n",
        "from nltk.stem import WordNetLemmatizer\n",
        "from nltk.corpus import stopwords\n",
        "from sklearn.feature_extraction.text import CountVectorizer\n",
        "from sklearn.feature_extraction.text import TfidfVectorizer\n",
        "from gensim.models import Word2Vec\n",
        "from sklearn.model_selection import train_test_split\n",
        "from sklearn.naive_bayes import MultinomialNB\n",
        "from sklearn.metrics import confusion_matrix\n",
        "from sklearn.metrics import accuracy_score\n",
        "import matplotlib.pyplot as plt\n",
        "import seaborn as sns\n",
        "from sklearn.metrics import plot_confusion_matrix\n",
        "from sklearn.svm import SVC\n",
        "from sklearn.metrics import precision_score, recall_score, f1_score"
      ],
      "execution_count": null,
      "outputs": []
    },
    {
      "cell_type": "code",
      "metadata": {
        "id": "5Mk-lxrAsO6e"
      },
      "source": [
        "\n",
        "\n",
        "nltk.download()"
      ],
      "execution_count": null,
      "outputs": []
    },
    {
      "cell_type": "code",
      "metadata": {
        "id": "0fJV-0JfuPWH"
      },
      "source": [
        "data=pd.read_csv('/content/train.csv')\n",
        "#print(data)"
      ],
      "execution_count": null,
      "outputs": []
    },
    {
      "cell_type": "code",
      "metadata": {
        "id": "9of2hMDYxa6m"
      },
      "source": [
        "all=[]\n",
        "lemmatizer= WordNetLemmatizer()\n",
        "stemmer= PorterStemmer()\n",
        "#max_len=0\n",
        "#min_len=100000000\n",
        "for i in range(0, len(data)):\n",
        "  edit=re.sub('[^a-zA-Z]', ' ', data['text'][i])\n",
        "  edit=edit.lower()\n",
        "  edit=nltk.word_tokenize(edit)\n",
        "  edit=[word for word in edit if len(word)>1]\n",
        "  edit=[word for word in edit if word.isalpha()]\n",
        "  edit=[word for word in edit if not word in stopwords.words('english')]\n",
        "  edit=[lemmatizer.lemmatize(word) for word in edit]\n",
        "  #len_edit=len(edit)\n",
        "  #max_len=max(max_len, len_edit)\n",
        "  #min_len=min(min_len, len_edit)\n",
        "  #s=data['label'][i]+\"\"\n",
        "  #edit.append(str(data['label'][i]))\n",
        "  edit=' '.join(edit)\n",
        "  all.append(edit)"
      ],
      "execution_count": null,
      "outputs": []
    },
    {
      "cell_type": "code",
      "metadata": {
        "id": "G2qiN_fVkAJj"
      },
      "source": [
        "print(all)"
      ],
      "execution_count": null,
      "outputs": []
    },
    {
      "cell_type": "code",
      "metadata": {
        "id": "zZte2uROK763"
      },
      "source": [
        "temp=[]\n",
        "for i in range(0, len(all)):\n",
        "  edit=all[i].split()\n",
        "  temp.append(edit)"
      ],
      "execution_count": null,
      "outputs": []
    },
    {
      "cell_type": "code",
      "metadata": {
        "id": "x3B71xdxMmvH"
      },
      "source": [
        "w2v=Word2Vec(temp)\n",
        "pp=w2v.wv\n",
        "pp.load_word2vec_format(),len(temp)"
      ],
      "execution_count": null,
      "outputs": []
    },
    {
      "cell_type": "code",
      "metadata": {
        "id": "l-qPjXSV4TAb"
      },
      "source": [
        "tfidf=TfidfVectorizer()\n",
        "x=tfidf.fit_transform(all).toarray()"
      ],
      "execution_count": null,
      "outputs": []
    },
    {
      "cell_type": "code",
      "metadata": {
        "id": "ihlz-cz0LvMH"
      },
      "source": [
        "y=data['label']"
      ],
      "execution_count": null,
      "outputs": []
    },
    {
      "cell_type": "code",
      "metadata": {
        "id": "Ulhc2cY5Lgi3"
      },
      "source": [
        "x_train, x_test, y_train, y_test=train_test_split(x, y, test_size=.20, random_state=0)"
      ],
      "execution_count": null,
      "outputs": []
    },
    {
      "cell_type": "code",
      "metadata": {
        "id": "6X7alc-MHQwK"
      },
      "source": [
        "depr=MultinomialNB().fit(x_train, y_train)"
      ],
      "execution_count": null,
      "outputs": []
    },
    {
      "cell_type": "code",
      "metadata": {
        "id": "ea2t2E61HtUK"
      },
      "source": [
        "y_pred=depr.predict(x_test)"
      ],
      "execution_count": null,
      "outputs": []
    },
    {
      "cell_type": "code",
      "metadata": {
        "colab": {
          "base_uri": "https://localhost:8080/",
          "height": 171
        },
        "id": "qlnMHjeLDoAs",
        "outputId": "17e8b3d4-fdcb-4123-d1e1-18be3fa9a503"
      },
      "source": [
        "depr=depr.to_dict()"
      ],
      "execution_count": null,
      "outputs": [
        {
          "output_type": "error",
          "ename": "AttributeError",
          "evalue": "ignored",
          "traceback": [
            "\u001b[0;31m---------------------------------------------------------------------------\u001b[0m",
            "\u001b[0;31mAttributeError\u001b[0m                            Traceback (most recent call last)",
            "\u001b[0;32m<ipython-input-14-0ce9d693e91a>\u001b[0m in \u001b[0;36m<module>\u001b[0;34m()\u001b[0m\n\u001b[0;32m----> 1\u001b[0;31m \u001b[0mdepr\u001b[0m\u001b[0;34m=\u001b[0m\u001b[0mdepr\u001b[0m\u001b[0;34m.\u001b[0m\u001b[0mto_dict\u001b[0m\u001b[0;34m(\u001b[0m\u001b[0;34m)\u001b[0m\u001b[0;34m\u001b[0m\u001b[0;34m\u001b[0m\u001b[0m\n\u001b[0m",
            "\u001b[0;31mAttributeError\u001b[0m: 'MultinomialNB' object has no attribute 'to_dict'"
          ]
        }
      ]
    },
    {
      "cell_type": "code",
      "metadata": {
        "colab": {
          "base_uri": "https://localhost:8080/",
          "height": 279
        },
        "id": "TBBM5XtJH6et",
        "outputId": "5d3f2b84-c657-4487-9729-27c288c4310c"
      },
      "source": [
        "#confu=confusion_matrix(y_test,y_pred)\n",
        "confusion_matrix = pd.crosstab(y_test, y_pred, rownames=['Test'], colnames=['Predicted'])\n",
        "\n",
        "sns.heatmap(confusion_matrix, annot=True, fmt='.05g')\n",
        "plt.show()  "
      ],
      "execution_count": null,
      "outputs": [
        {
          "output_type": "display_data",
          "data": {
            "image/png": "[encoded data removed]",
            "text/plain": [
              "<Figure size 432x288 with 2 Axes>"
            ]
          },
          "metadata": {
            "tags": [],
            "needs_background": "light"
          }
        }
      ]
    },
    {
      "cell_type": "code",
      "metadata": {
        "colab": {
          "base_uri": "https://localhost:8080/"
        },
        "id": "4vbkVcUBJRSB",
        "outputId": "4dc9cf5e-b489-4d03-d561-5cace28dcf29"
      },
      "source": [
        "accu=accuracy_score(y_test,y_pred)\n",
        "prescn=precision_score(y_test, y_pred)\n",
        "recl=recall_score(y_test, y_pred)\n",
        "f1=f1_score(y_test,y_pred)\n",
        "accu,prescn,recl,f1"
      ],
      "execution_count": null,
      "outputs": [
        {
          "output_type": "execute_result",
          "data": {
            "text/plain": [
              "(0.7059859154929577,\n",
              " 0.6488372093023256,\n",
              " 0.9457627118644067,\n",
              " 0.7696551724137931)"
            ]
          },
          "metadata": {
            "tags": []
          },
          "execution_count": 51
        }
      ]
    }
  ]
}